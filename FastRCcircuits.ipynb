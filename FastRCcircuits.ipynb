{
 "cells": [
  {
   "cell_type": "code",
   "execution_count": 4,
   "metadata": {},
   "outputs": [],
   "source": [
    "import numpy as np\n"
   ]
  },
  {
   "cell_type": "code",
   "execution_count": 5,
   "metadata": {},
   "outputs": [],
   "source": [
    "def rule1 (c, Aun):\n",
    "    Qun = np.abs(c)*Aun\n",
    "    return Qun\n",
    "\n",
    "def rule2 (c, A, Aun, Ae):\n",
    "    Qun = np.abs(c*Ae*A**(Ae-1))*Aun\n",
    "    return Qun\n",
    "\n",
    "def rule3(Aun, Bun):\n",
    "    Qun = np.sqrt(Aun**2 + Bun**2)\n",
    "    return Qun\n",
    "\n",
    "def rule4(Q, Ae, Be, Aun, Bun, A, B):\n",
    "    Qun = np.abs(Q)*np.sqrt(((Ae*Aun/A)**2)+((Be*Bun/B)**2))\n",
    "    return Qun\n"
   ]
  },
  {
   "cell_type": "code",
   "execution_count": 6,
   "metadata": {},
   "outputs": [],
   "source": [
    "#Variables t values are in milliseconds\n",
    "thalf1 = .1\n",
    "thalf2 = .17\n",
    "thalf3 = .075\n",
    "\n",
    "t_un = 0.0005 #half the smallest measurement using thalf3\n",
    "\n",
    "r = 9.87e3\n",
    "r_un = 0.005e3\n",
    "\n",
    "c1 = 10e-9\n",
    "c2 = 10e-9\n",
    "c_un = .5e-9\n"
   ]
  },
  {
   "cell_type": "code",
   "execution_count": 30,
   "metadata": {},
   "outputs": [
    {
     "name": "stdout",
     "output_type": "stream",
     "text": [
      "Our calculated time constant for basic circuit was: 1.44e-01 +/- 7.21e-04 milliseconds.\n",
      "Our theoretical time constant for basic circuit was; 9.87e-02 +/- 4.94e-03 milliseconds.\n"
     ]
    }
   ],
   "source": [
    "#experiment 1 with part 4\n",
    "t1 = thalf1/(np.log(2))\n",
    "t1_un = rule1((1/np.log(2)), t_un)\n",
    "\n",
    "#theoretical time constant\n",
    "tt1 = c1*r\n",
    "tt1_un = rule4(tt1, 1, 1, c_un, r_un, c1, r)\n",
    "\n",
    "print('Our calculated time constant for basic circuit was: %.2e +/- %.2e milliseconds.' % (t1, t1_un))\n",
    "print('Our theoretical time constant for basic circuit was; %.2e +/- %.2e milliseconds.' % (tt1*1000, tt1_un*1000))\n"
   ]
  },
  {
   "cell_type": "code",
   "execution_count": 29,
   "metadata": {},
   "outputs": [
    {
     "name": "stdout",
     "output_type": "stream",
     "text": [
      "Our calculated time constant for basic circuit was: 2.45e-01 +/- 7.21e-04 milliseconds.\n",
      "Our theoretical time constant for basic circuit was; 1.97e-01 +/- 6.98e-03 milliseconds.\n"
     ]
    }
   ],
   "source": [
    "#experiment 2 with theor.\n",
    "t2 = thalf2/(np.log(2))\n",
    "t2_un = rule1((1/np.log(2)), t_un)\n",
    "\n",
    "#theoretical time consant 2\n",
    "tt2 = (c1+c2)*r\n",
    "cap_un = rule3(c_un, c_un)\n",
    "tt2_un = rule4(tt2, 1, 1, cap_un, r_un, (c1+c2), r)\n",
    "\n",
    "print('Our calculated time constant for basic circuit was: %.2e +/- %.2e milliseconds.' % (t2, t2_un))\n",
    "print('Our theoretical time constant for basic circuit was; %.2e +/- %.2e milliseconds.' % (tt2*1000, tt2_un*1000))"
   ]
  },
  {
   "cell_type": "code",
   "execution_count": 35,
   "metadata": {},
   "outputs": [
    {
     "name": "stdout",
     "output_type": "stream",
     "text": [
      "Our calculated time constant for basic circuit was: 1.08e-01 +/- 7.21e-04 milliseconds.\n",
      "Our theoretical time constant for basic circuit was; 4.93e-02 +/- 1.74e-03 milliseconds.\n"
     ]
    }
   ],
   "source": [
    "#experiment 3 with theor\n",
    "t3 = thalf3/(np.log(2))\n",
    "t3_un = rule1((1/np.log(2)), t_un)\n",
    "\n",
    "#theoretical time constant 3\n",
    "cap_tot = ((c1**-1)+(c2**-1))**-1\n",
    "tt3 = cap_tot*r\n",
    "capt_un = rule2(1, (c1**-1 + c2**-1), rule3(rule2(1, c1, c_un, -1), rule2(1, c2, c_un, -1)), -1)\n",
    "tt3_un = rule4(tt3, 1, 1, capt_un, r_un, cap_tot, r)\n",
    "\n",
    "print('Our calculated time constant for basic circuit was: %.2e +/- %.2e milliseconds.' % (t3, t3_un))\n",
    "print('Our theoretical time constant for basic circuit was; %.2e +/- %.2e milliseconds.' % (tt3*1000, tt3_un*1000))\n"
   ]
  },
  {
   "cell_type": "code",
   "execution_count": null,
   "metadata": {},
   "outputs": [],
   "source": []
  }
 ],
 "metadata": {
  "kernelspec": {
   "display_name": "Python 3",
   "language": "python",
   "name": "python3"
  },
  "language_info": {
   "codemirror_mode": {
    "name": "ipython",
    "version": 3
   },
   "file_extension": ".py",
   "mimetype": "text/x-python",
   "name": "python",
   "nbconvert_exporter": "python",
   "pygments_lexer": "ipython3",
   "version": "3.7.3"
  }
 },
 "nbformat": 4,
 "nbformat_minor": 2
}
