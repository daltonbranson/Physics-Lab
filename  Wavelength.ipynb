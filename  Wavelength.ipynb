{
 "cells": [
  {
   "cell_type": "code",
   "execution_count": 2,
   "metadata": {},
   "outputs": [],
   "source": [
    "import numpy as np\n",
    "\n",
    "def rule3 (da, db):\n",
    "    dq = np.sqrt(da**2 + db**2)\n",
    "    return dq\n",
    "\n",
    "def rule4(Q, da, db, a, b):\n",
    "    dq = Q * np.sqrt((da/a)**2 + (db/b)**2)\n",
    "    return dq\n",
    "\n",
    "def wave (d, m):\n",
    "    wl = 2*d/m\n",
    "    return wl\n",
    "\n",
    "def distun(a, b):\n",
    "    error = np.std(a)/np.sqrt(b)\n",
    "    return error\n"
   ]
  },
  {
   "cell_type": "code",
   "execution_count": 16,
   "metadata": {},
   "outputs": [
    {
     "name": "stdout",
     "output_type": "stream",
     "text": [
      "The calculated wavelength is 6.21e-07 +/- 1.69e-08 meters.\n",
      "Which is 621 +/- 16.9 nanometers.\n"
     ]
    }
   ],
   "source": [
    "#data in micrometers\n",
    "\n",
    "m = 20\n",
    "mun = 0.5\n",
    "dist = np.array([6.5, 6.0, 6.2, 6.0, 6.2, 6.5, 6.0, 6.2, 6.5, 6.0])*(10**-6)\n",
    "dlength = 10\n",
    "dun = distun(dist, dlength)\n",
    "avgd = np.average(dist)\n",
    "WaveL = wave(avgd, m)\n",
    "WaveLun = rule4(WaveL, dun, mun, avgd, m)\n",
    "print('The calculated wavelength is %.2e +/- %.2e meters.' % (WaveL, WaveLun))\n",
    "print('Which is 621 +/- 16.9 nanometers.')"
   ]
  },
  {
   "cell_type": "code",
   "execution_count": null,
   "metadata": {},
   "outputs": [],
   "source": []
  }
 ],
 "metadata": {
  "kernelspec": {
   "display_name": "Python 3",
   "language": "python",
   "name": "python3"
  },
  "language_info": {
   "codemirror_mode": {
    "name": "ipython",
    "version": 3
   },
   "file_extension": ".py",
   "mimetype": "text/x-python",
   "name": "python",
   "nbconvert_exporter": "python",
   "pygments_lexer": "ipython3",
   "version": "3.7.3"
  }
 },
 "nbformat": 4,
 "nbformat_minor": 2
}
