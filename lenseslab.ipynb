{
 "cells": [
  {
   "cell_type": "code",
   "execution_count": 1,
   "metadata": {},
   "outputs": [],
   "source": [
    "import numpy as np"
   ]
  },
  {
   "cell_type": "code",
   "execution_count": 2,
   "metadata": {},
   "outputs": [],
   "source": [
    "def flength(a, b):\n",
    "    f = ((1/a) + (1/b))**-1\n",
    "    return f\n",
    "\n",
    "def fsub (a, b):\n",
    "    f = ((1/a) - (1/b))**-1\n",
    "    return f\n",
    "\n",
    "def rule3 (Aun, Bun):\n",
    "    unc = np.sqrt(Aun**2 + Bun**2)\n",
    "    return unc\n",
    "\n"
   ]
  },
  {
   "cell_type": "code",
   "execution_count": 24,
   "metadata": {},
   "outputs": [
    {
     "name": "stdout",
     "output_type": "stream",
     "text": [
      "The focal length with an object at distance infinity is 1.43e-01 +/- 1.00e-02 meters.\n"
     ]
    }
   ],
   "source": [
    "#Part 1.1\n",
    "\n",
    "i1 = .143 #meters\n",
    "iun = .01\n",
    "p1 = 10e+10 # just used a super big number to make the equation work\n",
    "Pun = .0005\n",
    "f1 = flength(i1, p1)\n",
    "unc_f = rule3(iun, Pun)\n",
    "\n",
    "print('The focal length with an object at distance infinity is %.2e +/- %.2e meters.' % (f1, unc_f))\n"
   ]
  },
  {
   "cell_type": "code",
   "execution_count": 18,
   "metadata": {},
   "outputs": [
    {
     "name": "stdout",
     "output_type": "stream",
     "text": [
      "At 4 times the focal length distance the focal length is 1.56e-01 +/- 1.00e-02 meters.\n",
      "At 2 times the focal length distance the focal length is 1.46e-01 +/- 1.00e-02 meters.\n",
      "At 1.5 times the focal length distance the focal length is 1.43e-01 +/- 1.00e-02 meters.\n",
      "the average focal length is 1.48e-01 +/- 1.73e-02 meters.\n"
     ]
    }
   ],
   "source": [
    "#part 1.2\n",
    "\n",
    "#at 4 times f\n",
    "p4 = .60\n",
    "i4 = .21\n",
    "f4 = flength(p4, i4)\n",
    "f4un = unc_f\n",
    "\n",
    "print('At 4 times the focal length distance the focal length is %.2e +/- %.2e meters.' % (f4, f4un))\n",
    "\n",
    "#at 2 times f\n",
    "p2 = .30\n",
    "i2 = .286\n",
    "f2 = flength(p2, i2)\n",
    "f2un = unc_f\n",
    "\n",
    "print('At 2 times the focal length distance the focal length is %.2e +/- %.2e meters.' % (f2, f2un))\n",
    "\n",
    "# at 1.5 times f\n",
    "p15 = .22\n",
    "i15 = .41\n",
    "f15 = flength(p15, i15)\n",
    "f15un = unc_f\n",
    "\n",
    "print('At 1.5 times the focal length distance the focal length is %.2e +/- %.2e meters.' % (f15, f15un))\n",
    "\n",
    "#average focal length\n",
    "\n",
    "favg = (f4 + f2 + f15)/3\n",
    "favguna = rule3(unc_f, unc_f)\n",
    "favgun = rule3(favguna, unc_f)\n",
    "print('the average focal length is %.2e +/- %.2e meters.' % (favg, favgun))\n"
   ]
  },
  {
   "cell_type": "code",
   "execution_count": 22,
   "metadata": {},
   "outputs": [
    {
     "name": "stdout",
     "output_type": "stream",
     "text": [
      "0.569999999996751\n",
      "0.1483821803275728\n",
      "The diverging lense focal length is -2.01e-01 +/- 2.00e-02 meters.\n"
     ]
    }
   ],
   "source": [
    "#PART 2\n",
    "#2.1\n",
    "\n",
    "i21 = .57\n",
    "p21 = 10e+10 #using large value to represent infinity\n",
    "\n",
    "fcomb = flength(i21, p21)\n",
    "fcombun = unc_f\n",
    "fdiv = fsub(fcomb, favg)\n",
    "fdivun = rule3(fcombun, favgun)\n",
    "\n",
    "print('The diverging lense focal length is %.2e +/- %.2e meters.' % (fdiv, fdivun))\n"
   ]
  },
  {
   "cell_type": "code",
   "execution_count": 25,
   "metadata": {},
   "outputs": [
    {
     "name": "stdout",
     "output_type": "stream",
     "text": [
      "The focal length at 4.5 cm is -1.84e-01 +/- 1.42e-02 meters.\n",
      "The focal length at 8cm is -1.83e-01 +/- 1.42e-02 meters.\n"
     ]
    }
   ],
   "source": [
    "#part 2.2\n",
    "\n",
    "p221 = .60\n",
    "i221 = .192 \n",
    "i224 = .725 #4.5cm dist.\n",
    "i228 = .968 - .68  #8 cm dist.\n",
    "i22un = rule3(iun, iun)\n",
    "d1 = .045\n",
    "d2 = .08\n",
    "\n",
    "#at 4.5 cm\n",
    "p224 = -(i221 - d1)\n",
    "p22un = rule3(iun, Pun)\n",
    "\n",
    "f45 = flength(i224, p224)\n",
    "f45un = rule3(iun, p22un)\n",
    "\n",
    "#at 8 cm\n",
    "p228 = -(i221 - d2)\n",
    "p228un = p22un\n",
    "\n",
    "f8 = flength(i228, p228)\n",
    "f8un = rule3(iun, p22un)\n",
    "\n",
    "print('The focal length at 4.5 cm is %.2e +/- %.2e meters.' % (f45, f45un))\n",
    "print('The focal length at 8cm is %.2e +/- %.2e meters.' % (f8, f8un))\n",
    "\n"
   ]
  },
  {
   "cell_type": "code",
   "execution_count": null,
   "metadata": {},
   "outputs": [],
   "source": []
  }
 ],
 "metadata": {
  "kernelspec": {
   "display_name": "Python 3",
   "language": "python",
   "name": "python3"
  },
  "language_info": {
   "codemirror_mode": {
    "name": "ipython",
    "version": 3
   },
   "file_extension": ".py",
   "mimetype": "text/x-python",
   "name": "python",
   "nbconvert_exporter": "python",
   "pygments_lexer": "ipython3",
   "version": "3.7.3"
  }
 },
 "nbformat": 4,
 "nbformat_minor": 2
}
